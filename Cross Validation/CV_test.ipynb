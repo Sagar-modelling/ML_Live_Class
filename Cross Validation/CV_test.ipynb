{
 "cells": [
  {
   "cell_type": "code",
   "execution_count": 1,
   "id": "a622dfec",
   "metadata": {},
   "outputs": [],
   "source": [
    "import numpy as np\n",
    "import pandas as pd\n",
    "import matplotlib.pyplot as plt\n",
    "import seaborn as sns"
   ]
  },
  {
   "cell_type": "code",
   "execution_count": 2,
   "id": "58fea31f",
   "metadata": {},
   "outputs": [
    {
     "data": {
      "text/html": [
       "<div>\n",
       "<style scoped>\n",
       "    .dataframe tbody tr th:only-of-type {\n",
       "        vertical-align: middle;\n",
       "    }\n",
       "\n",
       "    .dataframe tbody tr th {\n",
       "        vertical-align: top;\n",
       "    }\n",
       "\n",
       "    .dataframe thead th {\n",
       "        text-align: right;\n",
       "    }\n",
       "</style>\n",
       "<table border=\"1\" class=\"dataframe\">\n",
       "  <thead>\n",
       "    <tr style=\"text-align: right;\">\n",
       "      <th></th>\n",
       "      <th>TV</th>\n",
       "      <th>radio</th>\n",
       "      <th>newspaper</th>\n",
       "      <th>sales</th>\n",
       "    </tr>\n",
       "  </thead>\n",
       "  <tbody>\n",
       "    <tr>\n",
       "      <th>0</th>\n",
       "      <td>230.1</td>\n",
       "      <td>37.8</td>\n",
       "      <td>69.2</td>\n",
       "      <td>22.1</td>\n",
       "    </tr>\n",
       "    <tr>\n",
       "      <th>1</th>\n",
       "      <td>44.5</td>\n",
       "      <td>39.3</td>\n",
       "      <td>45.1</td>\n",
       "      <td>10.4</td>\n",
       "    </tr>\n",
       "    <tr>\n",
       "      <th>2</th>\n",
       "      <td>17.2</td>\n",
       "      <td>45.9</td>\n",
       "      <td>69.3</td>\n",
       "      <td>9.3</td>\n",
       "    </tr>\n",
       "    <tr>\n",
       "      <th>3</th>\n",
       "      <td>151.5</td>\n",
       "      <td>41.3</td>\n",
       "      <td>58.5</td>\n",
       "      <td>18.5</td>\n",
       "    </tr>\n",
       "    <tr>\n",
       "      <th>4</th>\n",
       "      <td>180.8</td>\n",
       "      <td>10.8</td>\n",
       "      <td>58.4</td>\n",
       "      <td>12.9</td>\n",
       "    </tr>\n",
       "  </tbody>\n",
       "</table>\n",
       "</div>"
      ],
      "text/plain": [
       "      TV  radio  newspaper  sales\n",
       "0  230.1   37.8       69.2   22.1\n",
       "1   44.5   39.3       45.1   10.4\n",
       "2   17.2   45.9       69.3    9.3\n",
       "3  151.5   41.3       58.5   18.5\n",
       "4  180.8   10.8       58.4   12.9"
      ]
     },
     "execution_count": 2,
     "metadata": {},
     "output_type": "execute_result"
    }
   ],
   "source": [
    "df = pd.read_csv(r'C:\\Users\\Sagar Kandpal\\Desktop\\ML EXAMPLE\\Modular\\ML_Live_Class\\data\\Advertising.csv')\n",
    "df.head()"
   ]
  },
  {
   "cell_type": "code",
   "execution_count": 3,
   "id": "338caa82",
   "metadata": {},
   "outputs": [
    {
     "data": {
      "text/html": [
       "<div>\n",
       "<style scoped>\n",
       "    .dataframe tbody tr th:only-of-type {\n",
       "        vertical-align: middle;\n",
       "    }\n",
       "\n",
       "    .dataframe tbody tr th {\n",
       "        vertical-align: top;\n",
       "    }\n",
       "\n",
       "    .dataframe thead th {\n",
       "        text-align: right;\n",
       "    }\n",
       "</style>\n",
       "<table border=\"1\" class=\"dataframe\">\n",
       "  <thead>\n",
       "    <tr style=\"text-align: right;\">\n",
       "      <th></th>\n",
       "      <th>TV</th>\n",
       "      <th>radio</th>\n",
       "      <th>newspaper</th>\n",
       "    </tr>\n",
       "  </thead>\n",
       "  <tbody>\n",
       "    <tr>\n",
       "      <th>0</th>\n",
       "      <td>230.1</td>\n",
       "      <td>37.8</td>\n",
       "      <td>69.2</td>\n",
       "    </tr>\n",
       "    <tr>\n",
       "      <th>1</th>\n",
       "      <td>44.5</td>\n",
       "      <td>39.3</td>\n",
       "      <td>45.1</td>\n",
       "    </tr>\n",
       "    <tr>\n",
       "      <th>2</th>\n",
       "      <td>17.2</td>\n",
       "      <td>45.9</td>\n",
       "      <td>69.3</td>\n",
       "    </tr>\n",
       "    <tr>\n",
       "      <th>3</th>\n",
       "      <td>151.5</td>\n",
       "      <td>41.3</td>\n",
       "      <td>58.5</td>\n",
       "    </tr>\n",
       "    <tr>\n",
       "      <th>4</th>\n",
       "      <td>180.8</td>\n",
       "      <td>10.8</td>\n",
       "      <td>58.4</td>\n",
       "    </tr>\n",
       "    <tr>\n",
       "      <th>...</th>\n",
       "      <td>...</td>\n",
       "      <td>...</td>\n",
       "      <td>...</td>\n",
       "    </tr>\n",
       "    <tr>\n",
       "      <th>195</th>\n",
       "      <td>38.2</td>\n",
       "      <td>3.7</td>\n",
       "      <td>13.8</td>\n",
       "    </tr>\n",
       "    <tr>\n",
       "      <th>196</th>\n",
       "      <td>94.2</td>\n",
       "      <td>4.9</td>\n",
       "      <td>8.1</td>\n",
       "    </tr>\n",
       "    <tr>\n",
       "      <th>197</th>\n",
       "      <td>177.0</td>\n",
       "      <td>9.3</td>\n",
       "      <td>6.4</td>\n",
       "    </tr>\n",
       "    <tr>\n",
       "      <th>198</th>\n",
       "      <td>283.6</td>\n",
       "      <td>42.0</td>\n",
       "      <td>66.2</td>\n",
       "    </tr>\n",
       "    <tr>\n",
       "      <th>199</th>\n",
       "      <td>232.1</td>\n",
       "      <td>8.6</td>\n",
       "      <td>8.7</td>\n",
       "    </tr>\n",
       "  </tbody>\n",
       "</table>\n",
       "<p>200 rows × 3 columns</p>\n",
       "</div>"
      ],
      "text/plain": [
       "        TV  radio  newspaper\n",
       "0    230.1   37.8       69.2\n",
       "1     44.5   39.3       45.1\n",
       "2     17.2   45.9       69.3\n",
       "3    151.5   41.3       58.5\n",
       "4    180.8   10.8       58.4\n",
       "..     ...    ...        ...\n",
       "195   38.2    3.7       13.8\n",
       "196   94.2    4.9        8.1\n",
       "197  177.0    9.3        6.4\n",
       "198  283.6   42.0       66.2\n",
       "199  232.1    8.6        8.7\n",
       "\n",
       "[200 rows x 3 columns]"
      ]
     },
     "execution_count": 3,
     "metadata": {},
     "output_type": "execute_result"
    }
   ],
   "source": [
    "X = df.drop('sales', axis=1)\n",
    "X"
   ]
  },
  {
   "cell_type": "code",
   "execution_count": 4,
   "id": "b8f4ade3",
   "metadata": {},
   "outputs": [
    {
     "data": {
      "text/plain": [
       "0      22.1\n",
       "1      10.4\n",
       "2       9.3\n",
       "3      18.5\n",
       "4      12.9\n",
       "       ... \n",
       "195     7.6\n",
       "196     9.7\n",
       "197    12.8\n",
       "198    25.5\n",
       "199    13.4\n",
       "Name: sales, Length: 200, dtype: float64"
      ]
     },
     "execution_count": 4,
     "metadata": {},
     "output_type": "execute_result"
    }
   ],
   "source": [
    "y = df['sales']\n",
    "y"
   ]
  },
  {
   "cell_type": "code",
   "execution_count": 5,
   "id": "4eb79176",
   "metadata": {},
   "outputs": [],
   "source": [
    "from sklearn.model_selection import train_test_split"
   ]
  },
  {
   "cell_type": "code",
   "execution_count": 6,
   "id": "09122cf0",
   "metadata": {},
   "outputs": [],
   "source": [
    "X_train, X_test, y_train, y_test = train_test_split(X,y, test_size=0.3, random_state=101)"
   ]
  },
  {
   "cell_type": "code",
   "execution_count": 7,
   "id": "f549d482",
   "metadata": {},
   "outputs": [],
   "source": [
    "from sklearn.preprocessing import StandardScaler"
   ]
  },
  {
   "cell_type": "code",
   "execution_count": 8,
   "id": "2bcfe240",
   "metadata": {},
   "outputs": [],
   "source": [
    "scaler = StandardScaler()"
   ]
  },
  {
   "cell_type": "code",
   "execution_count": 9,
   "id": "d91e530a",
   "metadata": {},
   "outputs": [
    {
     "data": {
      "text/plain": [
       "StandardScaler()"
      ]
     },
     "execution_count": 9,
     "metadata": {},
     "output_type": "execute_result"
    }
   ],
   "source": [
    "scaler.fit(X_train)"
   ]
  },
  {
   "cell_type": "code",
   "execution_count": 10,
   "id": "e9701735",
   "metadata": {},
   "outputs": [],
   "source": [
    "X_train = scaler.transform(X_train)"
   ]
  },
  {
   "cell_type": "code",
   "execution_count": 11,
   "id": "ab9a34cd",
   "metadata": {},
   "outputs": [],
   "source": [
    "X_test = scaler.transform(X_test)"
   ]
  },
  {
   "cell_type": "code",
   "execution_count": 12,
   "id": "0b4d927c",
   "metadata": {},
   "outputs": [],
   "source": [
    "from sklearn.linear_model import Ridge"
   ]
  },
  {
   "cell_type": "code",
   "execution_count": 13,
   "id": "faffabb6",
   "metadata": {},
   "outputs": [],
   "source": [
    "model = Ridge(alpha=100)"
   ]
  },
  {
   "cell_type": "code",
   "execution_count": 14,
   "id": "a4aafc21",
   "metadata": {},
   "outputs": [
    {
     "data": {
      "text/plain": [
       "Ridge(alpha=100)"
      ]
     },
     "execution_count": 14,
     "metadata": {},
     "output_type": "execute_result"
    }
   ],
   "source": [
    "model.fit(X_train, y_train)"
   ]
  },
  {
   "cell_type": "code",
   "execution_count": 15,
   "id": "92abc51a",
   "metadata": {},
   "outputs": [],
   "source": [
    "y_pred = model.predict(X_test)"
   ]
  },
  {
   "cell_type": "code",
   "execution_count": 16,
   "id": "edbb7dc3",
   "metadata": {},
   "outputs": [],
   "source": [
    "from sklearn.metrics import mean_squared_error"
   ]
  },
  {
   "cell_type": "code",
   "execution_count": 17,
   "id": "198212a7",
   "metadata": {},
   "outputs": [
    {
     "data": {
      "text/plain": [
       "7.341775789034128"
      ]
     },
     "execution_count": 17,
     "metadata": {},
     "output_type": "execute_result"
    }
   ],
   "source": [
    "MSE = mean_squared_error(y_pred, y_test)\n",
    "MSE"
   ]
  },
  {
   "cell_type": "code",
   "execution_count": 18,
   "id": "927cd2ce",
   "metadata": {},
   "outputs": [],
   "source": [
    "model2 = Ridge(alpha=1)"
   ]
  },
  {
   "cell_type": "code",
   "execution_count": 19,
   "id": "35e54272",
   "metadata": {},
   "outputs": [
    {
     "data": {
      "text/plain": [
       "Ridge(alpha=1)"
      ]
     },
     "execution_count": 19,
     "metadata": {},
     "output_type": "execute_result"
    }
   ],
   "source": [
    "model2.fit(X_train, y_train)"
   ]
  },
  {
   "cell_type": "code",
   "execution_count": 20,
   "id": "64d6403b",
   "metadata": {},
   "outputs": [],
   "source": [
    "ypred2 = model2.predict(X_test)"
   ]
  },
  {
   "cell_type": "code",
   "execution_count": 21,
   "id": "5c7b18c2",
   "metadata": {},
   "outputs": [
    {
     "data": {
      "text/plain": [
       "2.3190215794287514"
      ]
     },
     "execution_count": 21,
     "metadata": {},
     "output_type": "execute_result"
    }
   ],
   "source": [
    "MSE = mean_squared_error(ypred2, y_test) #without any validation data\n",
    "MSE"
   ]
  },
  {
   "cell_type": "code",
   "execution_count": null,
   "id": "16e1db58",
   "metadata": {},
   "outputs": [],
   "source": [
    "RMSE = np.sqrt(MSE)\n",
    "RMSE"
   ]
  },
  {
   "cell_type": "code",
   "execution_count": 36,
   "id": "b767fde8",
   "metadata": {},
   "outputs": [],
   "source": [
    "X_train, X_other, y_train, y_other = train_test_split(X,y, test_size=0.3, random_state=101)"
   ]
  },
  {
   "cell_type": "code",
   "execution_count": 37,
   "id": "5cadc550",
   "metadata": {},
   "outputs": [],
   "source": [
    "# test size = 0.5( 50% of the 30% other data)\n",
    "X_eval, X_test, y_eval, y_test = train_test_split(X_other,y_other, test_size=0.5, random_state=101)"
   ]
  },
  {
   "cell_type": "code",
   "execution_count": 27,
   "id": "de587b90",
   "metadata": {},
   "outputs": [
    {
     "data": {
      "text/plain": [
       "200"
      ]
     },
     "execution_count": 27,
     "metadata": {},
     "output_type": "execute_result"
    }
   ],
   "source": [
    "len(df)"
   ]
  },
  {
   "cell_type": "code",
   "execution_count": 28,
   "id": "e9047d1e",
   "metadata": {},
   "outputs": [
    {
     "data": {
      "text/plain": [
       "140"
      ]
     },
     "execution_count": 28,
     "metadata": {},
     "output_type": "execute_result"
    }
   ],
   "source": [
    "len(X_train)"
   ]
  },
  {
   "cell_type": "code",
   "execution_count": 29,
   "id": "328b195d",
   "metadata": {},
   "outputs": [
    {
     "data": {
      "text/plain": [
       "60"
      ]
     },
     "execution_count": 29,
     "metadata": {},
     "output_type": "execute_result"
    }
   ],
   "source": [
    "len(X_other)"
   ]
  },
  {
   "cell_type": "code",
   "execution_count": 30,
   "id": "cd6e8119",
   "metadata": {},
   "outputs": [
    {
     "data": {
      "text/plain": [
       "30"
      ]
     },
     "execution_count": 30,
     "metadata": {},
     "output_type": "execute_result"
    }
   ],
   "source": [
    "len(X_eval)"
   ]
  },
  {
   "cell_type": "code",
   "execution_count": 31,
   "id": "5a65b89f",
   "metadata": {},
   "outputs": [
    {
     "data": {
      "text/plain": [
       "30"
      ]
     },
     "execution_count": 31,
     "metadata": {},
     "output_type": "execute_result"
    }
   ],
   "source": [
    "len(X_test)"
   ]
  },
  {
   "cell_type": "code",
   "execution_count": 38,
   "id": "98a5f081",
   "metadata": {},
   "outputs": [],
   "source": [
    "X_train = scaler.transform(X_train)"
   ]
  },
  {
   "cell_type": "code",
   "execution_count": 39,
   "id": "1aa307c3",
   "metadata": {},
   "outputs": [],
   "source": [
    "X_test = scaler.transform(X_test)"
   ]
  },
  {
   "cell_type": "code",
   "execution_count": 40,
   "id": "332837ec",
   "metadata": {},
   "outputs": [],
   "source": [
    "X_eval = scaler.transform(X_eval) #validation data"
   ]
  },
  {
   "cell_type": "code",
   "execution_count": 41,
   "id": "a2e623e2",
   "metadata": {},
   "outputs": [],
   "source": [
    "model3 = Ridge(alpha =100)"
   ]
  },
  {
   "cell_type": "code",
   "execution_count": 42,
   "id": "b8d4ef9c",
   "metadata": {},
   "outputs": [
    {
     "data": {
      "text/plain": [
       "Ridge(alpha=100)"
      ]
     },
     "execution_count": 42,
     "metadata": {},
     "output_type": "execute_result"
    }
   ],
   "source": [
    "model3.fit(X_train, y_train)"
   ]
  },
  {
   "cell_type": "code",
   "execution_count": 43,
   "id": "78150d4a",
   "metadata": {},
   "outputs": [],
   "source": [
    "y_eval_pred = model3.predict(X_eval)"
   ]
  },
  {
   "cell_type": "code",
   "execution_count": 44,
   "id": "5b973cd0",
   "metadata": {},
   "outputs": [
    {
     "data": {
      "text/plain": [
       "7.320101458823869"
      ]
     },
     "execution_count": 44,
     "metadata": {},
     "output_type": "execute_result"
    }
   ],
   "source": [
    "MSE = mean_squared_error(y_eval_pred, y_eval)\n",
    "MSE"
   ]
  },
  {
   "cell_type": "code",
   "execution_count": 46,
   "id": "78e734b0",
   "metadata": {},
   "outputs": [],
   "source": [
    "model4 = Ridge(alpha =1)"
   ]
  },
  {
   "cell_type": "code",
   "execution_count": 47,
   "id": "1375a749",
   "metadata": {},
   "outputs": [
    {
     "data": {
      "text/plain": [
       "Ridge(alpha=1)"
      ]
     },
     "execution_count": 47,
     "metadata": {},
     "output_type": "execute_result"
    }
   ],
   "source": [
    "model4.fit(X_train, y_train)"
   ]
  },
  {
   "cell_type": "code",
   "execution_count": 48,
   "id": "d2f6a168",
   "metadata": {},
   "outputs": [],
   "source": [
    "new_pred_eval = model4.predict(X_eval)"
   ]
  },
  {
   "cell_type": "code",
   "execution_count": 49,
   "id": "7065b915",
   "metadata": {},
   "outputs": [
    {
     "data": {
      "text/plain": [
       "2.3837830750569853"
      ]
     },
     "execution_count": 49,
     "metadata": {},
     "output_type": "execute_result"
    }
   ],
   "source": [
    "MSE = mean_squared_error(new_pred_eval, y_eval)\n",
    "MSE"
   ]
  },
  {
   "cell_type": "code",
   "execution_count": 52,
   "id": "65f56007",
   "metadata": {},
   "outputs": [],
   "source": [
    "y_final_test_pred = model4.predict(X_test) #final evaluation on the test set"
   ]
  },
  {
   "cell_type": "code",
   "execution_count": 53,
   "id": "3f279452",
   "metadata": {},
   "outputs": [
    {
     "data": {
      "text/plain": [
       "2.254260083800517"
      ]
     },
     "execution_count": 53,
     "metadata": {},
     "output_type": "execute_result"
    }
   ],
   "source": [
    "MSE = mean_squared_error(y_test, y_final_test_pred) # for training-testing-validation case\n",
    "MSE"
   ]
  },
  {
   "cell_type": "markdown",
   "id": "b9468f1a",
   "metadata": {},
   "source": [
    "Cross_VAL_Score(K-fold CV)"
   ]
  },
  {
   "cell_type": "code",
   "execution_count": null,
   "id": "efc3eec1",
   "metadata": {},
   "outputs": [],
   "source": [
    "## CREATE X and y\n",
    "X = df.drop('sales',axis=1)\n",
    "y = df['sales']\n",
    "\n",
    "# TRAIN TEST SPLIT\n",
    "from sklearn.model_selection import train_test_split\n",
    "X_train, X_test, y_train, y_test = train_test_split(X, y, test_size=0.3, random_state=101)\n",
    "\n",
    "# SCALE DATA\n",
    "from sklearn.preprocessing import StandardScaler\n",
    "scaler = StandardScaler()\n",
    "scaler.fit(X_train)\n",
    "X_train = scaler.transform(X_train)\n",
    "X_test = scaler.transform(X_test)"
   ]
  },
  {
   "cell_type": "code",
   "execution_count": 54,
   "id": "d37681ff",
   "metadata": {},
   "outputs": [],
   "source": [
    "from sklearn.model_selection import cross_val_score"
   ]
  },
  {
   "cell_type": "code",
   "execution_count": 55,
   "id": "46f63600",
   "metadata": {},
   "outputs": [],
   "source": [
    "model = Ridge(alpha=100)"
   ]
  },
  {
   "cell_type": "code",
   "execution_count": 56,
   "id": "11495620",
   "metadata": {},
   "outputs": [],
   "source": [
    "scores = cross_val_score(model, X_train, y_train,scoring='neg_mean_squared_error', cv=5)"
   ]
  },
  {
   "cell_type": "code",
   "execution_count": 57,
   "id": "8507b402",
   "metadata": {},
   "outputs": [
    {
     "data": {
      "text/plain": [
       "array([ -9.32552967,  -4.9449624 , -11.39665242,  -7.0242106 ,\n",
       "        -8.38562723])"
      ]
     },
     "execution_count": 57,
     "metadata": {},
     "output_type": "execute_result"
    }
   ],
   "source": [
    "scores"
   ]
  },
  {
   "cell_type": "code",
   "execution_count": 58,
   "id": "021e27d4",
   "metadata": {},
   "outputs": [
    {
     "data": {
      "text/plain": [
       "8.215396464543607"
      ]
     },
     "execution_count": 58,
     "metadata": {},
     "output_type": "execute_result"
    }
   ],
   "source": [
    "abs(scores.mean())"
   ]
  },
  {
   "cell_type": "code",
   "execution_count": 59,
   "id": "04d79899",
   "metadata": {},
   "outputs": [],
   "source": [
    "model2 = Ridge(alpha=1)"
   ]
  },
  {
   "cell_type": "code",
   "execution_count": 67,
   "id": "a04f88ac",
   "metadata": {},
   "outputs": [
    {
     "data": {
      "text/plain": [
       "array([-2.96250773, -3.05737833, -2.1737403 , -0.83303438, -3.46401792,\n",
       "       -8.2326467 , -1.90586431, -2.76504844, -4.98950515, -2.84643818])"
      ]
     },
     "execution_count": 67,
     "metadata": {},
     "output_type": "execute_result"
    }
   ],
   "source": [
    "scores3 = cross_val_score(model2, X_train, y_train,scoring='neg_mean_squared_error', cv=5)\n",
    "scores3"
   ]
  },
  {
   "cell_type": "code",
   "execution_count": 68,
   "id": "c143885c",
   "metadata": {},
   "outputs": [
    {
     "data": {
      "text/plain": [
       "3.323018143114126"
      ]
     },
     "execution_count": 68,
     "metadata": {},
     "output_type": "execute_result"
    }
   ],
   "source": [
    "abs(scores3.mean())"
   ]
  },
  {
   "cell_type": "code",
   "execution_count": 69,
   "id": "b2729925",
   "metadata": {},
   "outputs": [
    {
     "data": {
      "text/plain": [
       "Ridge(alpha=1)"
      ]
     },
     "execution_count": 69,
     "metadata": {},
     "output_type": "execute_result"
    }
   ],
   "source": [
    "model2.fit(X_train, y_train)"
   ]
  },
  {
   "cell_type": "code",
   "execution_count": 70,
   "id": "c550a7b0",
   "metadata": {},
   "outputs": [],
   "source": [
    "y_final_test_pred = model2.predict(X_test) #prediction on the final test set(final evaluation)"
   ]
  },
  {
   "cell_type": "code",
   "execution_count": 71,
   "id": "f84622de",
   "metadata": {},
   "outputs": [
    {
     "data": {
      "text/plain": [
       "2.254260083800517"
      ]
     },
     "execution_count": 71,
     "metadata": {},
     "output_type": "execute_result"
    }
   ],
   "source": [
    "MSE = mean_squared_error(y_test, y_final_test_pred) # for training-testing-validation case\n",
    "MSE"
   ]
  },
  {
   "cell_type": "code",
   "execution_count": 72,
   "id": "b5ba2a0b",
   "metadata": {},
   "outputs": [],
   "source": [
    "## CREATE X and y\n",
    "X = df.drop('sales',axis=1)\n",
    "y = df['sales']\n",
    "\n",
    "# TRAIN TEST SPLIT\n",
    "from sklearn.model_selection import train_test_split\n",
    "X_train, X_test, y_train, y_test = train_test_split(X, y, test_size=0.3, random_state=101)\n",
    "\n",
    "# SCALE DATA\n",
    "from sklearn.preprocessing import StandardScaler\n",
    "scaler = StandardScaler()\n",
    "scaler.fit(X_train)\n",
    "X_train = scaler.transform(X_train)\n",
    "X_test = scaler.transform(X_test)"
   ]
  },
  {
   "cell_type": "code",
   "execution_count": 73,
   "id": "9afd3399",
   "metadata": {},
   "outputs": [],
   "source": [
    "from sklearn.model_selection import cross_validate"
   ]
  },
  {
   "cell_type": "code",
   "execution_count": 74,
   "id": "44e03afe",
   "metadata": {},
   "outputs": [],
   "source": [
    "model = Ridge(alpha=100)"
   ]
  },
  {
   "cell_type": "code",
   "execution_count": 78,
   "id": "850011b9",
   "metadata": {},
   "outputs": [],
   "source": [
    "scores = cross_validate(model, X_train, y_train, scoring= ['neg_mean_squared_error', 'neg_mean_absolute_error'], cv=10)"
   ]
  },
  {
   "cell_type": "code",
   "execution_count": 79,
   "id": "b28d3ad3",
   "metadata": {},
   "outputs": [
    {
     "data": {
      "text/html": [
       "<div>\n",
       "<style scoped>\n",
       "    .dataframe tbody tr th:only-of-type {\n",
       "        vertical-align: middle;\n",
       "    }\n",
       "\n",
       "    .dataframe tbody tr th {\n",
       "        vertical-align: top;\n",
       "    }\n",
       "\n",
       "    .dataframe thead th {\n",
       "        text-align: right;\n",
       "    }\n",
       "</style>\n",
       "<table border=\"1\" class=\"dataframe\">\n",
       "  <thead>\n",
       "    <tr style=\"text-align: right;\">\n",
       "      <th></th>\n",
       "      <th>fit_time</th>\n",
       "      <th>score_time</th>\n",
       "      <th>test_neg_mean_squared_error</th>\n",
       "      <th>test_neg_mean_absolute_error</th>\n",
       "    </tr>\n",
       "  </thead>\n",
       "  <tbody>\n",
       "    <tr>\n",
       "      <th>0</th>\n",
       "      <td>0.001999</td>\n",
       "      <td>0.001000</td>\n",
       "      <td>-6.060671</td>\n",
       "      <td>-1.810212</td>\n",
       "    </tr>\n",
       "    <tr>\n",
       "      <th>1</th>\n",
       "      <td>0.002002</td>\n",
       "      <td>0.000997</td>\n",
       "      <td>-10.627031</td>\n",
       "      <td>-2.541958</td>\n",
       "    </tr>\n",
       "    <tr>\n",
       "      <th>2</th>\n",
       "      <td>0.002003</td>\n",
       "      <td>0.002001</td>\n",
       "      <td>-3.993426</td>\n",
       "      <td>-1.469594</td>\n",
       "    </tr>\n",
       "    <tr>\n",
       "      <th>3</th>\n",
       "      <td>0.002997</td>\n",
       "      <td>0.001004</td>\n",
       "      <td>-5.009494</td>\n",
       "      <td>-1.862769</td>\n",
       "    </tr>\n",
       "    <tr>\n",
       "      <th>4</th>\n",
       "      <td>0.001039</td>\n",
       "      <td>0.001007</td>\n",
       "      <td>-9.141800</td>\n",
       "      <td>-2.520697</td>\n",
       "    </tr>\n",
       "    <tr>\n",
       "      <th>5</th>\n",
       "      <td>0.000991</td>\n",
       "      <td>0.000960</td>\n",
       "      <td>-13.086256</td>\n",
       "      <td>-2.459995</td>\n",
       "    </tr>\n",
       "    <tr>\n",
       "      <th>6</th>\n",
       "      <td>0.002002</td>\n",
       "      <td>0.000000</td>\n",
       "      <td>-3.839405</td>\n",
       "      <td>-1.451971</td>\n",
       "    </tr>\n",
       "    <tr>\n",
       "      <th>7</th>\n",
       "      <td>0.000998</td>\n",
       "      <td>0.000000</td>\n",
       "      <td>-9.058786</td>\n",
       "      <td>-2.377395</td>\n",
       "    </tr>\n",
       "    <tr>\n",
       "      <th>8</th>\n",
       "      <td>0.001000</td>\n",
       "      <td>0.000000</td>\n",
       "      <td>-9.055457</td>\n",
       "      <td>-2.443344</td>\n",
       "    </tr>\n",
       "    <tr>\n",
       "      <th>9</th>\n",
       "      <td>0.002002</td>\n",
       "      <td>0.000000</td>\n",
       "      <td>-5.778882</td>\n",
       "      <td>-1.899797</td>\n",
       "    </tr>\n",
       "  </tbody>\n",
       "</table>\n",
       "</div>"
      ],
      "text/plain": [
       "   fit_time  score_time  test_neg_mean_squared_error  \\\n",
       "0  0.001999    0.001000                    -6.060671   \n",
       "1  0.002002    0.000997                   -10.627031   \n",
       "2  0.002003    0.002001                    -3.993426   \n",
       "3  0.002997    0.001004                    -5.009494   \n",
       "4  0.001039    0.001007                    -9.141800   \n",
       "5  0.000991    0.000960                   -13.086256   \n",
       "6  0.002002    0.000000                    -3.839405   \n",
       "7  0.000998    0.000000                    -9.058786   \n",
       "8  0.001000    0.000000                    -9.055457   \n",
       "9  0.002002    0.000000                    -5.778882   \n",
       "\n",
       "   test_neg_mean_absolute_error  \n",
       "0                     -1.810212  \n",
       "1                     -2.541958  \n",
       "2                     -1.469594  \n",
       "3                     -1.862769  \n",
       "4                     -2.520697  \n",
       "5                     -2.459995  \n",
       "6                     -1.451971  \n",
       "7                     -2.377395  \n",
       "8                     -2.443344  \n",
       "9                     -1.899797  "
      ]
     },
     "execution_count": 79,
     "metadata": {},
     "output_type": "execute_result"
    }
   ],
   "source": [
    "scores = pd.DataFrame(scores)\n",
    "scores"
   ]
  },
  {
   "cell_type": "code",
   "execution_count": 80,
   "id": "07ba2753",
   "metadata": {},
   "outputs": [
    {
     "data": {
      "text/plain": [
       "fit_time                        0.001703\n",
       "score_time                      0.000697\n",
       "test_neg_mean_squared_error    -7.565121\n",
       "test_neg_mean_absolute_error   -2.083773\n",
       "dtype: float64"
      ]
     },
     "execution_count": 80,
     "metadata": {},
     "output_type": "execute_result"
    }
   ],
   "source": [
    "scores.mean()"
   ]
  },
  {
   "cell_type": "code",
   "execution_count": 81,
   "id": "dcf54d07",
   "metadata": {},
   "outputs": [],
   "source": [
    "model = Ridge(alpha=1)"
   ]
  },
  {
   "cell_type": "code",
   "execution_count": 88,
   "id": "4c1bf3e3",
   "metadata": {},
   "outputs": [],
   "source": [
    "scores = cross_validate(model, X_train, y_train, scoring= ['neg_mean_squared_error', 'neg_mean_absolute_error'], cv=5)"
   ]
  },
  {
   "cell_type": "code",
   "execution_count": 89,
   "id": "724e3440",
   "metadata": {},
   "outputs": [
    {
     "data": {
      "text/html": [
       "<div>\n",
       "<style scoped>\n",
       "    .dataframe tbody tr th:only-of-type {\n",
       "        vertical-align: middle;\n",
       "    }\n",
       "\n",
       "    .dataframe tbody tr th {\n",
       "        vertical-align: top;\n",
       "    }\n",
       "\n",
       "    .dataframe thead th {\n",
       "        text-align: right;\n",
       "    }\n",
       "</style>\n",
       "<table border=\"1\" class=\"dataframe\">\n",
       "  <thead>\n",
       "    <tr style=\"text-align: right;\">\n",
       "      <th></th>\n",
       "      <th>fit_time</th>\n",
       "      <th>score_time</th>\n",
       "      <th>test_neg_mean_squared_error</th>\n",
       "      <th>test_neg_mean_absolute_error</th>\n",
       "    </tr>\n",
       "  </thead>\n",
       "  <tbody>\n",
       "    <tr>\n",
       "      <th>0</th>\n",
       "      <td>0.002008</td>\n",
       "      <td>0.001989</td>\n",
       "      <td>-3.155132</td>\n",
       "      <td>-1.547117</td>\n",
       "    </tr>\n",
       "    <tr>\n",
       "      <th>1</th>\n",
       "      <td>0.001003</td>\n",
       "      <td>0.000995</td>\n",
       "      <td>-1.580870</td>\n",
       "      <td>-1.026044</td>\n",
       "    </tr>\n",
       "    <tr>\n",
       "      <th>2</th>\n",
       "      <td>0.001000</td>\n",
       "      <td>0.001000</td>\n",
       "      <td>-5.404556</td>\n",
       "      <td>-1.400793</td>\n",
       "    </tr>\n",
       "    <tr>\n",
       "      <th>3</th>\n",
       "      <td>0.001000</td>\n",
       "      <td>0.001001</td>\n",
       "      <td>-2.216545</td>\n",
       "      <td>-1.154251</td>\n",
       "    </tr>\n",
       "    <tr>\n",
       "      <th>4</th>\n",
       "      <td>0.001000</td>\n",
       "      <td>0.000000</td>\n",
       "      <td>-4.367094</td>\n",
       "      <td>-1.470222</td>\n",
       "    </tr>\n",
       "  </tbody>\n",
       "</table>\n",
       "</div>"
      ],
      "text/plain": [
       "   fit_time  score_time  test_neg_mean_squared_error  \\\n",
       "0  0.002008    0.001989                    -3.155132   \n",
       "1  0.001003    0.000995                    -1.580870   \n",
       "2  0.001000    0.001000                    -5.404556   \n",
       "3  0.001000    0.001001                    -2.216545   \n",
       "4  0.001000    0.000000                    -4.367094   \n",
       "\n",
       "   test_neg_mean_absolute_error  \n",
       "0                     -1.547117  \n",
       "1                     -1.026044  \n",
       "2                     -1.400793  \n",
       "3                     -1.154251  \n",
       "4                     -1.470222  "
      ]
     },
     "execution_count": 89,
     "metadata": {},
     "output_type": "execute_result"
    }
   ],
   "source": [
    "scores = pd.DataFrame(scores)\n",
    "scores"
   ]
  },
  {
   "cell_type": "code",
   "execution_count": 90,
   "id": "fe1e0ab7",
   "metadata": {},
   "outputs": [
    {
     "data": {
      "text/plain": [
       "fit_time                        0.001202\n",
       "score_time                      0.000997\n",
       "test_neg_mean_squared_error    -3.344839\n",
       "test_neg_mean_absolute_error   -1.319685\n",
       "dtype: float64"
      ]
     },
     "execution_count": 90,
     "metadata": {},
     "output_type": "execute_result"
    }
   ],
   "source": [
    "scores.mean()"
   ]
  },
  {
   "cell_type": "code",
   "execution_count": 91,
   "id": "36e68aac",
   "metadata": {},
   "outputs": [
    {
     "data": {
      "text/plain": [
       "Ridge(alpha=1)"
      ]
     },
     "execution_count": 91,
     "metadata": {},
     "output_type": "execute_result"
    }
   ],
   "source": [
    "model.fit(X_train, y_train)"
   ]
  },
  {
   "cell_type": "code",
   "execution_count": 92,
   "id": "b137784e",
   "metadata": {},
   "outputs": [],
   "source": [
    "y_final_pred = model.predict(X_test)"
   ]
  },
  {
   "cell_type": "code",
   "execution_count": 93,
   "id": "c8500606",
   "metadata": {},
   "outputs": [
    {
     "data": {
      "text/plain": [
       "2.3190215794287514"
      ]
     },
     "execution_count": 93,
     "metadata": {},
     "output_type": "execute_result"
    }
   ],
   "source": [
    "mean_squared_error(y_test, y_final_pred)"
   ]
  },
  {
   "cell_type": "markdown",
   "id": "a76f40b0",
   "metadata": {},
   "source": [
    "GridSearchCV"
   ]
  },
  {
   "cell_type": "code",
   "execution_count": 94,
   "id": "b9dd7f01",
   "metadata": {},
   "outputs": [],
   "source": [
    "## CREATE X and y\n",
    "X = df.drop('sales',axis=1)\n",
    "y = df['sales']\n",
    "\n",
    "# TRAIN TEST SPLIT\n",
    "from sklearn.model_selection import train_test_split\n",
    "X_train, X_test, y_train, y_test = train_test_split(X, y, test_size=0.3, random_state=101)\n",
    "\n",
    "# SCALE DATA\n",
    "from sklearn.preprocessing import StandardScaler\n",
    "scaler = StandardScaler()\n",
    "scaler.fit(X_train)\n",
    "X_train = scaler.transform(X_train)\n",
    "X_test = scaler.transform(X_test)"
   ]
  },
  {
   "cell_type": "code",
   "execution_count": 95,
   "id": "e8062963",
   "metadata": {},
   "outputs": [],
   "source": [
    "from sklearn.linear_model import ElasticNet"
   ]
  },
  {
   "cell_type": "code",
   "execution_count": 96,
   "id": "898ddf75",
   "metadata": {},
   "outputs": [],
   "source": [
    "base_elastic_model = ElasticNet()"
   ]
  },
  {
   "cell_type": "code",
   "execution_count": 97,
   "id": "4ddb0461",
   "metadata": {},
   "outputs": [],
   "source": [
    "param_grid = {'alpha': [0.1,1,5,10,100], 'l1_ratio':[0.1, 0.5, 0.7, 0.9, 1]}"
   ]
  },
  {
   "cell_type": "code",
   "execution_count": 98,
   "id": "e32d802a",
   "metadata": {},
   "outputs": [],
   "source": [
    "from sklearn.model_selection import GridSearchCV"
   ]
  },
  {
   "cell_type": "code",
   "execution_count": 103,
   "id": "70258703",
   "metadata": {},
   "outputs": [],
   "source": [
    "grid_model = GridSearchCV(estimator = base_elastic_model, param_grid = param_grid, scoring='neg_mean_squared_error', cv=5, verbose=3)"
   ]
  },
  {
   "cell_type": "code",
   "execution_count": 104,
   "id": "5d8cbfb0",
   "metadata": {},
   "outputs": [
    {
     "name": "stdout",
     "output_type": "stream",
     "text": [
      "Fitting 5 folds for each of 25 candidates, totalling 125 fits\n",
      "[CV 1/5] END ..........alpha=0.1, l1_ratio=0.1;, score=-3.453 total time=   0.0s\n",
      "[CV 2/5] END ..........alpha=0.1, l1_ratio=0.1;, score=-1.405 total time=   0.0s\n",
      "[CV 3/5] END ..........alpha=0.1, l1_ratio=0.1;, score=-5.789 total time=   0.0s\n",
      "[CV 4/5] END ..........alpha=0.1, l1_ratio=0.1;, score=-2.187 total time=   0.0s\n",
      "[CV 5/5] END ..........alpha=0.1, l1_ratio=0.1;, score=-4.646 total time=   0.0s\n",
      "[CV 1/5] END ..........alpha=0.1, l1_ratio=0.5;, score=-3.325 total time=   0.0s\n",
      "[CV 2/5] END ..........alpha=0.1, l1_ratio=0.5;, score=-1.428 total time=   0.0s\n",
      "[CV 3/5] END ..........alpha=0.1, l1_ratio=0.5;, score=-5.596 total time=   0.0s\n",
      "[CV 4/5] END ..........alpha=0.1, l1_ratio=0.5;, score=-2.163 total time=   0.0s\n",
      "[CV 5/5] END ..........alpha=0.1, l1_ratio=0.5;, score=-4.452 total time=   0.0s\n",
      "[CV 1/5] END ..........alpha=0.1, l1_ratio=0.7;, score=-3.270 total time=   0.0s\n",
      "[CV 2/5] END ..........alpha=0.1, l1_ratio=0.7;, score=-1.442 total time=   0.0s\n",
      "[CV 3/5] END ..........alpha=0.1, l1_ratio=0.7;, score=-5.502 total time=   0.0s\n",
      "[CV 4/5] END ..........alpha=0.1, l1_ratio=0.7;, score=-2.164 total time=   0.0s\n",
      "[CV 5/5] END ..........alpha=0.1, l1_ratio=0.7;, score=-4.357 total time=   0.0s\n",
      "[CV 1/5] END ..........alpha=0.1, l1_ratio=0.9;, score=-3.221 total time=   0.0s\n",
      "[CV 2/5] END ..........alpha=0.1, l1_ratio=0.9;, score=-1.465 total time=   0.0s\n",
      "[CV 3/5] END ..........alpha=0.1, l1_ratio=0.9;, score=-5.416 total time=   0.0s\n",
      "[CV 4/5] END ..........alpha=0.1, l1_ratio=0.9;, score=-2.173 total time=   0.0s\n",
      "[CV 5/5] END ..........alpha=0.1, l1_ratio=0.9;, score=-4.264 total time=   0.0s\n",
      "[CV 1/5] END ............alpha=0.1, l1_ratio=1;, score=-3.207 total time=   0.0s\n",
      "[CV 2/5] END ............alpha=0.1, l1_ratio=1;, score=-1.480 total time=   0.0s\n",
      "[CV 3/5] END ............alpha=0.1, l1_ratio=1;, score=-5.376 total time=   0.0s\n",
      "[CV 4/5] END ............alpha=0.1, l1_ratio=1;, score=-2.182 total time=   0.0s\n",
      "[CV 5/5] END ............alpha=0.1, l1_ratio=1;, score=-4.218 total time=   0.0s\n",
      "[CV 1/5] END ............alpha=1, l1_ratio=0.1;, score=-9.827 total time=   0.0s\n",
      "[CV 2/5] END ............alpha=1, l1_ratio=0.1;, score=-5.262 total time=   0.0s\n",
      "[CV 3/5] END ...........alpha=1, l1_ratio=0.1;, score=-11.875 total time=   0.0s\n",
      "[CV 4/5] END ............alpha=1, l1_ratio=0.1;, score=-7.449 total time=   0.0s\n",
      "[CV 5/5] END ............alpha=1, l1_ratio=0.1;, score=-8.542 total time=   0.0s\n",
      "[CV 1/5] END ............alpha=1, l1_ratio=0.5;, score=-8.707 total time=   0.0s\n",
      "[CV 2/5] END ............alpha=1, l1_ratio=0.5;, score=-4.214 total time=   0.0s\n",
      "[CV 3/5] END ...........alpha=1, l1_ratio=0.5;, score=-10.879 total time=   0.0s\n",
      "[CV 4/5] END ............alpha=1, l1_ratio=0.5;, score=-6.205 total time=   0.0s\n",
      "[CV 5/5] END ............alpha=1, l1_ratio=0.5;, score=-7.173 total time=   0.0s\n",
      "[CV 1/5] END ............alpha=1, l1_ratio=0.7;, score=-7.921 total time=   0.0s\n",
      "[CV 2/5] END ............alpha=1, l1_ratio=0.7;, score=-3.550 total time=   0.0s\n",
      "[CV 3/5] END ...........alpha=1, l1_ratio=0.7;, score=-10.025 total time=   0.0s\n",
      "[CV 4/5] END ............alpha=1, l1_ratio=0.7;, score=-5.380 total time=   0.0s\n",
      "[CV 5/5] END ............alpha=1, l1_ratio=0.7;, score=-6.325 total time=   0.0s\n",
      "[CV 1/5] END ............alpha=1, l1_ratio=0.9;, score=-6.984 total time=   0.0s\n",
      "[CV 2/5] END ............alpha=1, l1_ratio=0.9;, score=-2.790 total time=   0.0s\n",
      "[CV 3/5] END ............alpha=1, l1_ratio=0.9;, score=-8.997 total time=   0.0s\n",
      "[CV 4/5] END ............alpha=1, l1_ratio=0.9;, score=-4.415 total time=   0.0s\n",
      "[CV 5/5] END ............alpha=1, l1_ratio=0.9;, score=-5.546 total time=   0.0s\n",
      "[CV 1/5] END ..............alpha=1, l1_ratio=1;, score=-6.469 total time=   0.0s\n",
      "[CV 2/5] END ..............alpha=1, l1_ratio=1;, score=-2.391 total time=   0.0s\n",
      "[CV 3/5] END ..............alpha=1, l1_ratio=1;, score=-8.410 total time=   0.0s\n",
      "[CV 4/5] END ..............alpha=1, l1_ratio=1;, score=-3.894 total time=   0.0s\n",
      "[CV 5/5] END ..............alpha=1, l1_ratio=1;, score=-5.106 total time=   0.0s\n",
      "[CV 1/5] END ...........alpha=5, l1_ratio=0.1;, score=-22.979 total time=   0.0s\n",
      "[CV 2/5] END ...........alpha=5, l1_ratio=0.1;, score=-15.547 total time=   0.0s\n",
      "[CV 3/5] END ...........alpha=5, l1_ratio=0.1;, score=-23.668 total time=   0.0s\n",
      "[CV 4/5] END ...........alpha=5, l1_ratio=0.1;, score=-19.921 total time=   0.0s\n",
      "[CV 5/5] END ...........alpha=5, l1_ratio=0.1;, score=-16.263 total time=   0.0s\n",
      "[CV 1/5] END ...........alpha=5, l1_ratio=0.5;, score=-27.793 total time=   0.0s\n",
      "[CV 2/5] END ...........alpha=5, l1_ratio=0.5;, score=-18.602 total time=   0.0s\n",
      "[CV 3/5] END ...........alpha=5, l1_ratio=0.5;, score=-27.108 total time=   0.0s\n",
      "[CV 4/5] END ...........alpha=5, l1_ratio=0.5;, score=-23.945 total time=   0.0s\n",
      "[CV 5/5] END ...........alpha=5, l1_ratio=0.5;, score=-18.065 total time=   0.0s\n",
      "[CV 1/5] END ...........alpha=5, l1_ratio=0.7;, score=-29.656 total time=   0.0s\n",
      "[CV 2/5] END ...........alpha=5, l1_ratio=0.7;, score=-21.085 total time=   0.0s\n",
      "[CV 3/5] END ...........alpha=5, l1_ratio=0.7;, score=-29.629 total time=   0.0s\n",
      "[CV 4/5] END ...........alpha=5, l1_ratio=0.7;, score=-26.725 total time=   0.0s\n",
      "[CV 5/5] END ...........alpha=5, l1_ratio=0.7;, score=-20.224 total time=   0.0s\n",
      "[CV 1/5] END ...........alpha=5, l1_ratio=0.9;, score=-31.130 total time=   0.0s\n",
      "[CV 2/5] END ...........alpha=5, l1_ratio=0.9;, score=-22.549 total time=   0.0s\n",
      "[CV 3/5] END ...........alpha=5, l1_ratio=0.9;, score=-31.155 total time=   0.0s\n",
      "[CV 4/5] END ...........alpha=5, l1_ratio=0.9;, score=-27.963 total time=   0.0s\n",
      "[CV 5/5] END ...........alpha=5, l1_ratio=0.9;, score=-21.698 total time=   0.0s\n",
      "[CV 1/5] END .............alpha=5, l1_ratio=1;, score=-31.130 total time=   0.0s\n",
      "[CV 2/5] END .............alpha=5, l1_ratio=1;, score=-22.549 total time=   0.0s\n",
      "[CV 3/5] END .............alpha=5, l1_ratio=1;, score=-31.155 total time=   0.0s\n",
      "[CV 4/5] END .............alpha=5, l1_ratio=1;, score=-27.963 total time=   0.0s\n",
      "[CV 5/5] END .............alpha=5, l1_ratio=1;, score=-21.698 total time=   0.0s\n",
      "[CV 1/5] END ..........alpha=10, l1_ratio=0.1;, score=-27.385 total time=   0.0s\n",
      "[CV 2/5] END ..........alpha=10, l1_ratio=0.1;, score=-19.160 total time=   0.0s\n",
      "[CV 3/5] END ..........alpha=10, l1_ratio=0.1;, score=-27.635 total time=   0.0s\n",
      "[CV 4/5] END ..........alpha=10, l1_ratio=0.1;, score=-24.154 total time=   0.0s\n",
      "[CV 5/5] END ..........alpha=10, l1_ratio=0.1;, score=-18.968 total time=   0.0s\n",
      "[CV 1/5] END ..........alpha=10, l1_ratio=0.5;, score=-31.130 total time=   0.0s\n",
      "[CV 2/5] END ..........alpha=10, l1_ratio=0.5;, score=-22.549 total time=   0.0s\n",
      "[CV 3/5] END ..........alpha=10, l1_ratio=0.5;, score=-31.155 total time=   0.0s\n",
      "[CV 4/5] END ..........alpha=10, l1_ratio=0.5;, score=-27.963 total time=   0.0s\n",
      "[CV 5/5] END ..........alpha=10, l1_ratio=0.5;, score=-21.698 total time=   0.0s\n",
      "[CV 1/5] END ..........alpha=10, l1_ratio=0.7;, score=-31.130 total time=   0.0s\n",
      "[CV 2/5] END ..........alpha=10, l1_ratio=0.7;, score=-22.549 total time=   0.0s\n",
      "[CV 3/5] END ..........alpha=10, l1_ratio=0.7;, score=-31.155 total time=   0.0s\n",
      "[CV 4/5] END ..........alpha=10, l1_ratio=0.7;, score=-27.963 total time=   0.0s\n",
      "[CV 5/5] END ..........alpha=10, l1_ratio=0.7;, score=-21.698 total time=   0.0s\n",
      "[CV 1/5] END ..........alpha=10, l1_ratio=0.9;, score=-31.130 total time=   0.0s\n",
      "[CV 2/5] END ..........alpha=10, l1_ratio=0.9;, score=-22.549 total time=   0.0s\n",
      "[CV 3/5] END ..........alpha=10, l1_ratio=0.9;, score=-31.155 total time=   0.0s\n",
      "[CV 4/5] END ..........alpha=10, l1_ratio=0.9;, score=-27.963 total time=   0.0s\n",
      "[CV 5/5] END ..........alpha=10, l1_ratio=0.9;, score=-21.698 total time=   0.0s\n",
      "[CV 1/5] END ............alpha=10, l1_ratio=1;, score=-31.130 total time=   0.0s\n",
      "[CV 2/5] END ............alpha=10, l1_ratio=1;, score=-22.549 total time=   0.0s\n",
      "[CV 3/5] END ............alpha=10, l1_ratio=1;, score=-31.155 total time=   0.0s\n",
      "[CV 4/5] END ............alpha=10, l1_ratio=1;, score=-27.963 total time=   0.0s\n",
      "[CV 5/5] END ............alpha=10, l1_ratio=1;, score=-21.698 total time=   0.0s\n",
      "[CV 1/5] END .........alpha=100, l1_ratio=0.1;, score=-31.130 total time=   0.0s\n",
      "[CV 2/5] END .........alpha=100, l1_ratio=0.1;, score=-22.549 total time=   0.0s\n",
      "[CV 3/5] END .........alpha=100, l1_ratio=0.1;, score=-31.155 total time=   0.0s\n",
      "[CV 4/5] END .........alpha=100, l1_ratio=0.1;, score=-27.963 total time=   0.0s\n",
      "[CV 5/5] END .........alpha=100, l1_ratio=0.1;, score=-21.698 total time=   0.0s\n",
      "[CV 1/5] END .........alpha=100, l1_ratio=0.5;, score=-31.130 total time=   0.0s\n",
      "[CV 2/5] END .........alpha=100, l1_ratio=0.5;, score=-22.549 total time=   0.0s\n",
      "[CV 3/5] END .........alpha=100, l1_ratio=0.5;, score=-31.155 total time=   0.0s\n",
      "[CV 4/5] END .........alpha=100, l1_ratio=0.5;, score=-27.963 total time=   0.0s\n",
      "[CV 5/5] END .........alpha=100, l1_ratio=0.5;, score=-21.698 total time=   0.0s\n",
      "[CV 1/5] END .........alpha=100, l1_ratio=0.7;, score=-31.130 total time=   0.0s\n",
      "[CV 2/5] END .........alpha=100, l1_ratio=0.7;, score=-22.549 total time=   0.0s\n",
      "[CV 3/5] END .........alpha=100, l1_ratio=0.7;, score=-31.155 total time=   0.0s\n",
      "[CV 4/5] END .........alpha=100, l1_ratio=0.7;, score=-27.963 total time=   0.0s\n",
      "[CV 5/5] END .........alpha=100, l1_ratio=0.7;, score=-21.698 total time=   0.0s\n",
      "[CV 1/5] END .........alpha=100, l1_ratio=0.9;, score=-31.130 total time=   0.0s\n",
      "[CV 2/5] END .........alpha=100, l1_ratio=0.9;, score=-22.549 total time=   0.0s\n",
      "[CV 3/5] END .........alpha=100, l1_ratio=0.9;, score=-31.155 total time=   0.0s\n",
      "[CV 4/5] END .........alpha=100, l1_ratio=0.9;, score=-27.963 total time=   0.0s\n",
      "[CV 5/5] END .........alpha=100, l1_ratio=0.9;, score=-21.698 total time=   0.0s\n",
      "[CV 1/5] END ...........alpha=100, l1_ratio=1;, score=-31.130 total time=   0.0s\n",
      "[CV 2/5] END ...........alpha=100, l1_ratio=1;, score=-22.549 total time=   0.0s\n",
      "[CV 3/5] END ...........alpha=100, l1_ratio=1;, score=-31.155 total time=   0.0s\n",
      "[CV 4/5] END ...........alpha=100, l1_ratio=1;, score=-27.963 total time=   0.0s\n",
      "[CV 5/5] END ...........alpha=100, l1_ratio=1;, score=-21.698 total time=   0.0s\n"
     ]
    },
    {
     "data": {
      "text/plain": [
       "GridSearchCV(cv=5, estimator=ElasticNet(),\n",
       "             param_grid={'alpha': [0.1, 1, 5, 10, 100],\n",
       "                         'l1_ratio': [0.1, 0.5, 0.7, 0.9, 1]},\n",
       "             scoring='neg_mean_squared_error', verbose=3)"
      ]
     },
     "execution_count": 104,
     "metadata": {},
     "output_type": "execute_result"
    }
   ],
   "source": [
    "grid_model.fit(X_train, y_train)"
   ]
  },
  {
   "cell_type": "code",
   "execution_count": 105,
   "id": "f961a7f0",
   "metadata": {},
   "outputs": [
    {
     "data": {
      "text/plain": [
       "ElasticNet(alpha=0.1, l1_ratio=1)"
      ]
     },
     "execution_count": 105,
     "metadata": {},
     "output_type": "execute_result"
    }
   ],
   "source": [
    "grid_model.best_estimator_"
   ]
  },
  {
   "cell_type": "code",
   "execution_count": 106,
   "id": "f59cafe3",
   "metadata": {},
   "outputs": [
    {
     "data": {
      "text/plain": [
       "{'alpha': 0.1, 'l1_ratio': 1}"
      ]
     },
     "execution_count": 106,
     "metadata": {},
     "output_type": "execute_result"
    }
   ],
   "source": [
    "grid_model.best_params_"
   ]
  },
  {
   "cell_type": "code",
   "execution_count": 107,
   "id": "bb3eaff1",
   "metadata": {},
   "outputs": [
    {
     "data": {
      "text/html": [
       "<div>\n",
       "<style scoped>\n",
       "    .dataframe tbody tr th:only-of-type {\n",
       "        vertical-align: middle;\n",
       "    }\n",
       "\n",
       "    .dataframe tbody tr th {\n",
       "        vertical-align: top;\n",
       "    }\n",
       "\n",
       "    .dataframe thead th {\n",
       "        text-align: right;\n",
       "    }\n",
       "</style>\n",
       "<table border=\"1\" class=\"dataframe\">\n",
       "  <thead>\n",
       "    <tr style=\"text-align: right;\">\n",
       "      <th></th>\n",
       "      <th>mean_fit_time</th>\n",
       "      <th>std_fit_time</th>\n",
       "      <th>mean_score_time</th>\n",
       "      <th>std_score_time</th>\n",
       "      <th>param_alpha</th>\n",
       "      <th>param_l1_ratio</th>\n",
       "      <th>params</th>\n",
       "      <th>split0_test_score</th>\n",
       "      <th>split1_test_score</th>\n",
       "      <th>split2_test_score</th>\n",
       "      <th>split3_test_score</th>\n",
       "      <th>split4_test_score</th>\n",
       "      <th>mean_test_score</th>\n",
       "      <th>std_test_score</th>\n",
       "      <th>rank_test_score</th>\n",
       "    </tr>\n",
       "  </thead>\n",
       "  <tbody>\n",
       "    <tr>\n",
       "      <th>0</th>\n",
       "      <td>0.001603</td>\n",
       "      <td>0.000799</td>\n",
       "      <td>0.000395</td>\n",
       "      <td>0.000484</td>\n",
       "      <td>0.1</td>\n",
       "      <td>0.1</td>\n",
       "      <td>{'alpha': 0.1, 'l1_ratio': 0.1}</td>\n",
       "      <td>-3.453021</td>\n",
       "      <td>-1.405190</td>\n",
       "      <td>-5.789125</td>\n",
       "      <td>-2.187302</td>\n",
       "      <td>-4.645576</td>\n",
       "      <td>-3.496043</td>\n",
       "      <td>1.591601</td>\n",
       "      <td>5</td>\n",
       "    </tr>\n",
       "    <tr>\n",
       "      <th>1</th>\n",
       "      <td>0.001000</td>\n",
       "      <td>0.000003</td>\n",
       "      <td>0.000799</td>\n",
       "      <td>0.000399</td>\n",
       "      <td>0.1</td>\n",
       "      <td>0.5</td>\n",
       "      <td>{'alpha': 0.1, 'l1_ratio': 0.5}</td>\n",
       "      <td>-3.325440</td>\n",
       "      <td>-1.427522</td>\n",
       "      <td>-5.595610</td>\n",
       "      <td>-2.163089</td>\n",
       "      <td>-4.451679</td>\n",
       "      <td>-3.392668</td>\n",
       "      <td>1.506827</td>\n",
       "      <td>4</td>\n",
       "    </tr>\n",
       "    <tr>\n",
       "      <th>2</th>\n",
       "      <td>0.001401</td>\n",
       "      <td>0.000491</td>\n",
       "      <td>0.000807</td>\n",
       "      <td>0.000404</td>\n",
       "      <td>0.1</td>\n",
       "      <td>0.7</td>\n",
       "      <td>{'alpha': 0.1, 'l1_ratio': 0.7}</td>\n",
       "      <td>-3.269880</td>\n",
       "      <td>-1.442432</td>\n",
       "      <td>-5.502437</td>\n",
       "      <td>-2.163950</td>\n",
       "      <td>-4.356738</td>\n",
       "      <td>-3.347088</td>\n",
       "      <td>1.462765</td>\n",
       "      <td>3</td>\n",
       "    </tr>\n",
       "    <tr>\n",
       "      <th>3</th>\n",
       "      <td>0.001594</td>\n",
       "      <td>0.000806</td>\n",
       "      <td>0.000200</td>\n",
       "      <td>0.000399</td>\n",
       "      <td>0.1</td>\n",
       "      <td>0.9</td>\n",
       "      <td>{'alpha': 0.1, 'l1_ratio': 0.9}</td>\n",
       "      <td>-3.221397</td>\n",
       "      <td>-1.465339</td>\n",
       "      <td>-5.416447</td>\n",
       "      <td>-2.173493</td>\n",
       "      <td>-4.263887</td>\n",
       "      <td>-3.308112</td>\n",
       "      <td>1.417693</td>\n",
       "      <td>2</td>\n",
       "    </tr>\n",
       "    <tr>\n",
       "      <th>4</th>\n",
       "      <td>0.000800</td>\n",
       "      <td>0.000400</td>\n",
       "      <td>0.000400</td>\n",
       "      <td>0.000490</td>\n",
       "      <td>0.1</td>\n",
       "      <td>1</td>\n",
       "      <td>{'alpha': 0.1, 'l1_ratio': 1}</td>\n",
       "      <td>-3.206943</td>\n",
       "      <td>-1.480065</td>\n",
       "      <td>-5.376257</td>\n",
       "      <td>-2.182076</td>\n",
       "      <td>-4.218460</td>\n",
       "      <td>-3.292760</td>\n",
       "      <td>1.394613</td>\n",
       "      <td>1</td>\n",
       "    </tr>\n",
       "  </tbody>\n",
       "</table>\n",
       "</div>"
      ],
      "text/plain": [
       "   mean_fit_time  std_fit_time  mean_score_time  std_score_time param_alpha  \\\n",
       "0       0.001603      0.000799         0.000395        0.000484         0.1   \n",
       "1       0.001000      0.000003         0.000799        0.000399         0.1   \n",
       "2       0.001401      0.000491         0.000807        0.000404         0.1   \n",
       "3       0.001594      0.000806         0.000200        0.000399         0.1   \n",
       "4       0.000800      0.000400         0.000400        0.000490         0.1   \n",
       "\n",
       "  param_l1_ratio                           params  split0_test_score  \\\n",
       "0            0.1  {'alpha': 0.1, 'l1_ratio': 0.1}          -3.453021   \n",
       "1            0.5  {'alpha': 0.1, 'l1_ratio': 0.5}          -3.325440   \n",
       "2            0.7  {'alpha': 0.1, 'l1_ratio': 0.7}          -3.269880   \n",
       "3            0.9  {'alpha': 0.1, 'l1_ratio': 0.9}          -3.221397   \n",
       "4              1    {'alpha': 0.1, 'l1_ratio': 1}          -3.206943   \n",
       "\n",
       "   split1_test_score  split2_test_score  split3_test_score  split4_test_score  \\\n",
       "0          -1.405190          -5.789125          -2.187302          -4.645576   \n",
       "1          -1.427522          -5.595610          -2.163089          -4.451679   \n",
       "2          -1.442432          -5.502437          -2.163950          -4.356738   \n",
       "3          -1.465339          -5.416447          -2.173493          -4.263887   \n",
       "4          -1.480065          -5.376257          -2.182076          -4.218460   \n",
       "\n",
       "   mean_test_score  std_test_score  rank_test_score  \n",
       "0        -3.496043        1.591601                5  \n",
       "1        -3.392668        1.506827                4  \n",
       "2        -3.347088        1.462765                3  \n",
       "3        -3.308112        1.417693                2  \n",
       "4        -3.292760        1.394613                1  "
      ]
     },
     "execution_count": 107,
     "metadata": {},
     "output_type": "execute_result"
    }
   ],
   "source": [
    "pd.DataFrame(grid_model.cv_results_).head()"
   ]
  },
  {
   "cell_type": "code",
   "execution_count": 109,
   "id": "d10303b2",
   "metadata": {},
   "outputs": [],
   "source": [
    "y_pred = grid_model.predict(X_test)"
   ]
  },
  {
   "cell_type": "code",
   "execution_count": 110,
   "id": "a31c17cc",
   "metadata": {},
   "outputs": [
    {
     "data": {
      "text/plain": [
       "2.387342642087474"
      ]
     },
     "execution_count": 110,
     "metadata": {},
     "output_type": "execute_result"
    }
   ],
   "source": [
    "mean_squared_error(y_test, y_pred)"
   ]
  }
 ],
 "metadata": {
  "kernelspec": {
   "display_name": "Python 3 (ipykernel)",
   "language": "python",
   "name": "python3"
  },
  "language_info": {
   "codemirror_mode": {
    "name": "ipython",
    "version": 3
   },
   "file_extension": ".py",
   "mimetype": "text/x-python",
   "name": "python",
   "nbconvert_exporter": "python",
   "pygments_lexer": "ipython3",
   "version": "3.7.0"
  }
 },
 "nbformat": 4,
 "nbformat_minor": 5
}
